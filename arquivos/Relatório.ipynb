{
  "nbformat": 4,
  "nbformat_minor": 0,
  "metadata": {
    "colab": {
      "name": "Relatório.ipynb",
      "provenance": [],
      "collapsed_sections": []
    },
    "kernelspec": {
      "name": "python3",
      "display_name": "Python 3"
    }
  },
  "cells": [
    {
      "cell_type": "markdown",
      "metadata": {
        "id": "uU2N3KkTZbLW"
      },
      "source": [
        "#Conexão com postgres e Relatorios do Sistema\n",
        "\n",
        "\n"
      ]
    },
    {
      "cell_type": "markdown",
      "metadata": {
        "id": "4KvKgqIMamef"
      },
      "source": [
        "#Instalando bibliotecas de acesso ao postgres, manipulação de dados e gráficos"
      ]
    },
    {
      "cell_type": "code",
      "metadata": {
        "id": "Sh842BmXZQYl"
      },
      "source": [
        "#!pip install --user psycopg2-binary\n",
        "#!pip install --user seaborn\n",
        "#!pip install --user pandas"
      ],
      "execution_count": null,
      "outputs": []
    },
    {
      "cell_type": "markdown",
      "metadata": {
        "id": "2ALPvOCNa2rQ"
      },
      "source": [
        "#Importando bibliotecas e realizando configurações"
      ]
    },
    {
      "cell_type": "code",
      "metadata": {
        "id": "OqeUo5jNZOzd"
      },
      "source": [
        "import psycopg2\n",
        "import pandas as pd\n",
        "conn = psycopg2.connect(host=\"ruby.db.elephantsql.com\",database =\"zbhwctjp\",user =\"zbhwctjp\", password =\"KpKFW6sP3irBObgJf_YJtiCTqyfd-VA2\")\n",
        "\n",
        "import seaborn as sns\n",
        "import matplotlib.pyplot as plt"
      ],
      "execution_count": null,
      "outputs": []
    },
    {
      "cell_type": "markdown",
      "metadata": {
        "id": "AvEwQZTVZ3qG"
      },
      "source": [
        "# Relatórios"
      ]
    },
    {
      "cell_type": "markdown",
      "metadata": {
        "id": "UW7wa8nUbtT3"
      },
      "source": [
        "Relatório 1\n",
        "\n",
        "Objetivo: Obter relatório que mostre o nome de cada usuário e a quantidade total de transações que o mesmo realizou, incluindo todos os tipos de transações.\n",
        "\n",
        "Código para obtenção do resultado:"
      ]
    },
    {
      "cell_type": "code",
      "metadata": {
        "id": "HMhxeKASZ-Ns",
        "outputId": "78181362-1dc5-4c00-8d2d-02aa37297520",
        "colab": {
          "base_uri": "https://localhost:8080/",
          "height": 737
        }
      },
      "source": [
        "res = pd.read_sql_query(\"\"\"select pessoa.nome, count(cpf_pessoa) as qtd_transacao from transacao \n",
        "                            inner join pessoa \n",
        "                            on (transacao.cpf_pessoa = pessoa.cpf) \n",
        "                            group by pessoa.nome \n",
        "                            order by pessoa.nome\"\"\", conn)\n",
        "res"
      ],
      "execution_count": null,
      "outputs": [
        {
          "output_type": "execute_result",
          "data": {
            "text/html": [
              "<div>\n",
              "<style scoped>\n",
              "    .dataframe tbody tr th:only-of-type {\n",
              "        vertical-align: middle;\n",
              "    }\n",
              "\n",
              "    .dataframe tbody tr th {\n",
              "        vertical-align: top;\n",
              "    }\n",
              "\n",
              "    .dataframe thead th {\n",
              "        text-align: right;\n",
              "    }\n",
              "</style>\n",
              "<table border=\"1\" class=\"dataframe\">\n",
              "  <thead>\n",
              "    <tr style=\"text-align: right;\">\n",
              "      <th></th>\n",
              "      <th>nome</th>\n",
              "      <th>qtd_transacao</th>\n",
              "    </tr>\n",
              "  </thead>\n",
              "  <tbody>\n",
              "    <tr>\n",
              "      <th>0</th>\n",
              "      <td>Alessadra Silva</td>\n",
              "      <td>3</td>\n",
              "    </tr>\n",
              "    <tr>\n",
              "      <th>1</th>\n",
              "      <td>Ana Gomes</td>\n",
              "      <td>4</td>\n",
              "    </tr>\n",
              "    <tr>\n",
              "      <th>2</th>\n",
              "      <td>Ana Sofia</td>\n",
              "      <td>1</td>\n",
              "    </tr>\n",
              "    <tr>\n",
              "      <th>3</th>\n",
              "      <td>Beatriz Souza Alves</td>\n",
              "      <td>2</td>\n",
              "    </tr>\n",
              "    <tr>\n",
              "      <th>4</th>\n",
              "      <td>Bernardo Batista</td>\n",
              "      <td>2</td>\n",
              "    </tr>\n",
              "    <tr>\n",
              "      <th>5</th>\n",
              "      <td>Carla Santos</td>\n",
              "      <td>3</td>\n",
              "    </tr>\n",
              "    <tr>\n",
              "      <th>6</th>\n",
              "      <td>Fabio  Nunes</td>\n",
              "      <td>9</td>\n",
              "    </tr>\n",
              "    <tr>\n",
              "      <th>7</th>\n",
              "      <td>Fernando Magalhaes</td>\n",
              "      <td>1</td>\n",
              "    </tr>\n",
              "    <tr>\n",
              "      <th>8</th>\n",
              "      <td>Isaias Rangel</td>\n",
              "      <td>1</td>\n",
              "    </tr>\n",
              "    <tr>\n",
              "      <th>9</th>\n",
              "      <td>João Almeida</td>\n",
              "      <td>4</td>\n",
              "    </tr>\n",
              "    <tr>\n",
              "      <th>10</th>\n",
              "      <td>Jose Francisco</td>\n",
              "      <td>1</td>\n",
              "    </tr>\n",
              "    <tr>\n",
              "      <th>11</th>\n",
              "      <td>Kaio Fagundes</td>\n",
              "      <td>2</td>\n",
              "    </tr>\n",
              "    <tr>\n",
              "      <th>12</th>\n",
              "      <td>Kelvin Abreu</td>\n",
              "      <td>1</td>\n",
              "    </tr>\n",
              "    <tr>\n",
              "      <th>13</th>\n",
              "      <td>Laiz Santorio</td>\n",
              "      <td>2</td>\n",
              "    </tr>\n",
              "    <tr>\n",
              "      <th>14</th>\n",
              "      <td>Leia Souza</td>\n",
              "      <td>1</td>\n",
              "    </tr>\n",
              "    <tr>\n",
              "      <th>15</th>\n",
              "      <td>Nayara Bittencourt</td>\n",
              "      <td>3</td>\n",
              "    </tr>\n",
              "    <tr>\n",
              "      <th>16</th>\n",
              "      <td>Patricia Machado</td>\n",
              "      <td>2</td>\n",
              "    </tr>\n",
              "    <tr>\n",
              "      <th>17</th>\n",
              "      <td>Paulo Carmelo Antunes</td>\n",
              "      <td>1</td>\n",
              "    </tr>\n",
              "    <tr>\n",
              "      <th>18</th>\n",
              "      <td>Pedro Goncalves</td>\n",
              "      <td>2</td>\n",
              "    </tr>\n",
              "    <tr>\n",
              "      <th>19</th>\n",
              "      <td>Priscila Xavier</td>\n",
              "      <td>1</td>\n",
              "    </tr>\n",
              "    <tr>\n",
              "      <th>20</th>\n",
              "      <td>Rafael Pinho</td>\n",
              "      <td>1</td>\n",
              "    </tr>\n",
              "    <tr>\n",
              "      <th>21</th>\n",
              "      <td>Roberto Goes</td>\n",
              "      <td>1</td>\n",
              "    </tr>\n",
              "    <tr>\n",
              "      <th>22</th>\n",
              "      <td>Sofia Salles</td>\n",
              "      <td>8</td>\n",
              "    </tr>\n",
              "  </tbody>\n",
              "</table>\n",
              "</div>"
            ],
            "text/plain": [
              "                     nome  qtd_transacao\n",
              "0         Alessadra Silva              3\n",
              "1               Ana Gomes              4\n",
              "2               Ana Sofia              1\n",
              "3     Beatriz Souza Alves              2\n",
              "4        Bernardo Batista              2\n",
              "5            Carla Santos              3\n",
              "6            Fabio  Nunes              9\n",
              "7      Fernando Magalhaes              1\n",
              "8           Isaias Rangel              1\n",
              "9            João Almeida              4\n",
              "10         Jose Francisco              1\n",
              "11          Kaio Fagundes              2\n",
              "12           Kelvin Abreu              1\n",
              "13          Laiz Santorio              2\n",
              "14             Leia Souza              1\n",
              "15     Nayara Bittencourt              3\n",
              "16       Patricia Machado              2\n",
              "17  Paulo Carmelo Antunes              1\n",
              "18        Pedro Goncalves              2\n",
              "19        Priscila Xavier              1\n",
              "20           Rafael Pinho              1\n",
              "21           Roberto Goes              1\n",
              "22           Sofia Salles              8"
            ]
          },
          "metadata": {
            "tags": []
          },
          "execution_count": 15
        }
      ]
    },
    {
      "cell_type": "code",
      "metadata": {
        "id": "43BPP6azZ-dh",
        "outputId": "106a82d3-5671-4ea5-bc1f-5de3820a90f8",
        "colab": {
          "base_uri": "https://localhost:8080/",
          "height": 297
        }
      },
      "source": [
        "ax = sns.barplot(x='qtd_transacao', y='nome', data=res)\n",
        "ax.set_xlabel('qtd_transacao')"
      ],
      "execution_count": null,
      "outputs": [
        {
          "output_type": "execute_result",
          "data": {
            "text/plain": [
              "Text(0.5, 0, 'qtd_transacao')"
            ]
          },
          "metadata": {
            "tags": []
          },
          "execution_count": 16
        },
        {
          "output_type": "display_data",
          "data": {
            "image/png": "[encoded data removed]",
            "text/plain": [
              "<Figure size 432x288 with 1 Axes>"
            ]
          },
          "metadata": {
            "tags": [],
            "needs_background": "light"
          }
        }
      ]
    },
    {
      "cell_type": "markdown",
      "metadata": {
        "id": "9jwmr90PZ-1d"
      },
      "source": [
        "Relatório 2\n",
        "\n",
        "Objetivo: Obter relatório que mostre a soma total de valores movimentados em todas as transações e a soma total de gastos de acordo com o estado, considera-se gastos as transações que pertencem aos tipos 1  e 2, saques e despesas respectivamente. \n",
        "\n",
        "Código para obtenção do resultado:"
      ]
    },
    {
      "cell_type": "code",
      "metadata": {
        "id": "IxTavhXkZ_Q6",
        "outputId": "7fcc469f-770b-4930-c97b-585b5370c60f",
        "colab": {
          "base_uri": "https://localhost:8080/",
          "height": 317
        }
      },
      "source": [
        "estados = pd.read_sql_query(\"\"\"select endereco.estado, sum(valor) as \"soma total\", sum(case when transacao.tipo = 1 or transacao.tipo = 2 then transacao.valor end) as \"valor de gastos\" from transacao \n",
        "                            inner join endereco \n",
        "                            on (transacao.cpf_pessoa = endereco.cpf_pessoa) \n",
        "                            group by endereco.estado \n",
        "                            order by endereco.estado\"\"\", conn) \n",
        "estados"
      ],
      "execution_count": null,
      "outputs": [
        {
          "output_type": "execute_result",
          "data": {
            "text/html": [
              "<div>\n",
              "<style scoped>\n",
              "    .dataframe tbody tr th:only-of-type {\n",
              "        vertical-align: middle;\n",
              "    }\n",
              "\n",
              "    .dataframe tbody tr th {\n",
              "        vertical-align: top;\n",
              "    }\n",
              "\n",
              "    .dataframe thead th {\n",
              "        text-align: right;\n",
              "    }\n",
              "</style>\n",
              "<table border=\"1\" class=\"dataframe\">\n",
              "  <thead>\n",
              "    <tr style=\"text-align: right;\">\n",
              "      <th></th>\n",
              "      <th>estado</th>\n",
              "      <th>soma total</th>\n",
              "      <th>valor de gastos</th>\n",
              "    </tr>\n",
              "  </thead>\n",
              "  <tbody>\n",
              "    <tr>\n",
              "      <th>0</th>\n",
              "      <td>AC</td>\n",
              "      <td>2200.00</td>\n",
              "      <td>2200.00</td>\n",
              "    </tr>\n",
              "    <tr>\n",
              "      <th>1</th>\n",
              "      <td>BA</td>\n",
              "      <td>5350.00</td>\n",
              "      <td>4000.00</td>\n",
              "    </tr>\n",
              "    <tr>\n",
              "      <th>2</th>\n",
              "      <td>DF</td>\n",
              "      <td>7600.00</td>\n",
              "      <td>7600.00</td>\n",
              "    </tr>\n",
              "    <tr>\n",
              "      <th>3</th>\n",
              "      <td>ES</td>\n",
              "      <td>117680.99</td>\n",
              "      <td>25222.99</td>\n",
              "    </tr>\n",
              "    <tr>\n",
              "      <th>4</th>\n",
              "      <td>PE</td>\n",
              "      <td>16750.00</td>\n",
              "      <td>850.00</td>\n",
              "    </tr>\n",
              "    <tr>\n",
              "      <th>5</th>\n",
              "      <td>PR</td>\n",
              "      <td>9000.00</td>\n",
              "      <td>2300.00</td>\n",
              "    </tr>\n",
              "    <tr>\n",
              "      <th>6</th>\n",
              "      <td>RJ</td>\n",
              "      <td>30550.00</td>\n",
              "      <td>23050.00</td>\n",
              "    </tr>\n",
              "    <tr>\n",
              "      <th>7</th>\n",
              "      <td>SC</td>\n",
              "      <td>27283.00</td>\n",
              "      <td>14550.00</td>\n",
              "    </tr>\n",
              "    <tr>\n",
              "      <th>8</th>\n",
              "      <td>SP</td>\n",
              "      <td>16642.00</td>\n",
              "      <td>1842.00</td>\n",
              "    </tr>\n",
              "  </tbody>\n",
              "</table>\n",
              "</div>"
            ],
            "text/plain": [
              "  estado  soma total  valor de gastos\n",
              "0     AC     2200.00          2200.00\n",
              "1     BA     5350.00          4000.00\n",
              "2     DF     7600.00          7600.00\n",
              "3     ES   117680.99         25222.99\n",
              "4     PE    16750.00           850.00\n",
              "5     PR     9000.00          2300.00\n",
              "6     RJ    30550.00         23050.00\n",
              "7     SC    27283.00         14550.00\n",
              "8     SP    16642.00          1842.00"
            ]
          },
          "metadata": {
            "tags": []
          },
          "execution_count": 17
        }
      ]
    },
    {
      "cell_type": "code",
      "metadata": {
        "id": "PTF4E-oXZ_kN",
        "outputId": "48aa9f70-0bae-47eb-8cf7-21b9a4fe8850",
        "colab": {
          "base_uri": "https://localhost:8080/",
          "height": 296
        }
      },
      "source": [
        "sns.set_color_codes(\"pastel\")\n",
        "sns.barplot(x=\"soma total\", y=\"estado\", data=estados,\n",
        "            label=\"Soma Total\", color=\"b\")\n",
        "\n",
        "\n",
        "sns.set_color_codes(\"bright\")\n",
        "sns.barplot(x=\"valor de gastos\", y=\"estado\", data=estados,\n",
        "            label=\"Valor Gasto em Despesas\", color=\"b\")\n",
        "\n",
        "\n",
        "ax.legend(ncol=2, loc=\"lower right\", frameon=True)\n",
        "ax.set(xlim=(0, 24), ylabel=\"\",\n",
        "       xlabel=\"Valor Movimentado por Estado\")\n",
        "sns.despine(left=True, bottom=True)"
      ],
      "execution_count": null,
      "outputs": [
        {
          "output_type": "stream",
          "text": [
            "No handles with labels found to put in legend.\n"
          ],
          "name": "stderr"
        },
        {
          "output_type": "display_data",
          "data": {
            "image/png": "[encoded data removed]",
            "text/plain": [
              "<Figure size 432x288 with 1 Axes>"
            ]
          },
          "metadata": {
            "tags": [],
            "needs_background": "light"
          }
        }
      ]
    },
    {
      "cell_type": "markdown",
      "metadata": {
        "id": "rYkSrAgEaBv1"
      },
      "source": [
        "Relatório 3\n",
        "\n",
        "Objetivo: Obter relatório que mostre o valor total de cada tipo de transação de acordo com meses e o ano de 2020.\n",
        "\n",
        "Código para obtenção do resultado:"
      ]
    },
    {
      "cell_type": "code",
      "metadata": {
        "id": "lK2BO_4YaCG3",
        "outputId": "fc123e16-f587-4351-8e0c-1bd242cbfc7e",
        "colab": {
          "base_uri": "https://localhost:8080/",
          "height": 827
        }
      },
      "source": [
        "res =pd.read_sql_query(\"\"\"select (select extract('year' from data_operacao)) as \"ano\",(select extract('month' from data_operacao)) as \"mes\", tipo.descricao_tipo as \"tipo\" , sum(valor) as \"valor total\" from transacao \n",
        "                        inner join\n",
        "                        tipo on(tipo = tipo.cod_tipo and (select extract('year' from data_operacao))='2020')\n",
        "                        group by mes,ano,tipo.descricao_tipo\n",
        "                        order by ano,mes\"\"\", conn)\n",
        "res "
      ],
      "execution_count": null,
      "outputs": [
        {
          "output_type": "execute_result",
          "data": {
            "text/html": [
              "<div>\n",
              "<style scoped>\n",
              "    .dataframe tbody tr th:only-of-type {\n",
              "        vertical-align: middle;\n",
              "    }\n",
              "\n",
              "    .dataframe tbody tr th {\n",
              "        vertical-align: top;\n",
              "    }\n",
              "\n",
              "    .dataframe thead th {\n",
              "        text-align: right;\n",
              "    }\n",
              "</style>\n",
              "<table border=\"1\" class=\"dataframe\">\n",
              "  <thead>\n",
              "    <tr style=\"text-align: right;\">\n",
              "      <th></th>\n",
              "      <th>ano</th>\n",
              "      <th>mes</th>\n",
              "      <th>tipo</th>\n",
              "      <th>valor total</th>\n",
              "    </tr>\n",
              "  </thead>\n",
              "  <tbody>\n",
              "    <tr>\n",
              "      <th>0</th>\n",
              "      <td>2020.0</td>\n",
              "      <td>1.0</td>\n",
              "      <td>Depósito</td>\n",
              "      <td>13100.00</td>\n",
              "    </tr>\n",
              "    <tr>\n",
              "      <th>1</th>\n",
              "      <td>2020.0</td>\n",
              "      <td>1.0</td>\n",
              "      <td>Despesa</td>\n",
              "      <td>650.00</td>\n",
              "    </tr>\n",
              "    <tr>\n",
              "      <th>2</th>\n",
              "      <td>2020.0</td>\n",
              "      <td>1.0</td>\n",
              "      <td>Investimento</td>\n",
              "      <td>5000.00</td>\n",
              "    </tr>\n",
              "    <tr>\n",
              "      <th>3</th>\n",
              "      <td>2020.0</td>\n",
              "      <td>2.0</td>\n",
              "      <td>Investimento</td>\n",
              "      <td>1500.00</td>\n",
              "    </tr>\n",
              "    <tr>\n",
              "      <th>4</th>\n",
              "      <td>2020.0</td>\n",
              "      <td>3.0</td>\n",
              "      <td>Depósito</td>\n",
              "      <td>14800.00</td>\n",
              "    </tr>\n",
              "    <tr>\n",
              "      <th>5</th>\n",
              "      <td>2020.0</td>\n",
              "      <td>3.0</td>\n",
              "      <td>Despesa</td>\n",
              "      <td>4000.00</td>\n",
              "    </tr>\n",
              "    <tr>\n",
              "      <th>6</th>\n",
              "      <td>2020.0</td>\n",
              "      <td>3.0</td>\n",
              "      <td>Investimento</td>\n",
              "      <td>4350.00</td>\n",
              "    </tr>\n",
              "    <tr>\n",
              "      <th>7</th>\n",
              "      <td>2020.0</td>\n",
              "      <td>3.0</td>\n",
              "      <td>Receita</td>\n",
              "      <td>11433.00</td>\n",
              "    </tr>\n",
              "    <tr>\n",
              "      <th>8</th>\n",
              "      <td>2020.0</td>\n",
              "      <td>4.0</td>\n",
              "      <td>Despesa</td>\n",
              "      <td>12099.99</td>\n",
              "    </tr>\n",
              "    <tr>\n",
              "      <th>9</th>\n",
              "      <td>2020.0</td>\n",
              "      <td>5.0</td>\n",
              "      <td>Despesa</td>\n",
              "      <td>2200.00</td>\n",
              "    </tr>\n",
              "    <tr>\n",
              "      <th>10</th>\n",
              "      <td>2020.0</td>\n",
              "      <td>6.0</td>\n",
              "      <td>Depósito</td>\n",
              "      <td>2200.00</td>\n",
              "    </tr>\n",
              "    <tr>\n",
              "      <th>11</th>\n",
              "      <td>2020.0</td>\n",
              "      <td>6.0</td>\n",
              "      <td>Despesa</td>\n",
              "      <td>1500.00</td>\n",
              "    </tr>\n",
              "    <tr>\n",
              "      <th>12</th>\n",
              "      <td>2020.0</td>\n",
              "      <td>6.0</td>\n",
              "      <td>Investimento</td>\n",
              "      <td>3000.00</td>\n",
              "    </tr>\n",
              "    <tr>\n",
              "      <th>13</th>\n",
              "      <td>2020.0</td>\n",
              "      <td>6.0</td>\n",
              "      <td>Receita</td>\n",
              "      <td>4034.00</td>\n",
              "    </tr>\n",
              "    <tr>\n",
              "      <th>14</th>\n",
              "      <td>2020.0</td>\n",
              "      <td>7.0</td>\n",
              "      <td>Depósito</td>\n",
              "      <td>4000.00</td>\n",
              "    </tr>\n",
              "    <tr>\n",
              "      <th>15</th>\n",
              "      <td>2020.0</td>\n",
              "      <td>7.0</td>\n",
              "      <td>Despesa</td>\n",
              "      <td>3703.00</td>\n",
              "    </tr>\n",
              "    <tr>\n",
              "      <th>16</th>\n",
              "      <td>2020.0</td>\n",
              "      <td>7.0</td>\n",
              "      <td>Receita</td>\n",
              "      <td>31224.00</td>\n",
              "    </tr>\n",
              "    <tr>\n",
              "      <th>17</th>\n",
              "      <td>2020.0</td>\n",
              "      <td>8.0</td>\n",
              "      <td>Depósito</td>\n",
              "      <td>14000.00</td>\n",
              "    </tr>\n",
              "    <tr>\n",
              "      <th>18</th>\n",
              "      <td>2020.0</td>\n",
              "      <td>8.0</td>\n",
              "      <td>Despesa</td>\n",
              "      <td>850.00</td>\n",
              "    </tr>\n",
              "    <tr>\n",
              "      <th>19</th>\n",
              "      <td>2020.0</td>\n",
              "      <td>8.0</td>\n",
              "      <td>Receita</td>\n",
              "      <td>2000.00</td>\n",
              "    </tr>\n",
              "    <tr>\n",
              "      <th>20</th>\n",
              "      <td>2020.0</td>\n",
              "      <td>8.0</td>\n",
              "      <td>Saque</td>\n",
              "      <td>4800.00</td>\n",
              "    </tr>\n",
              "    <tr>\n",
              "      <th>21</th>\n",
              "      <td>2020.0</td>\n",
              "      <td>9.0</td>\n",
              "      <td>Investimento</td>\n",
              "      <td>1000.00</td>\n",
              "    </tr>\n",
              "    <tr>\n",
              "      <th>22</th>\n",
              "      <td>2020.0</td>\n",
              "      <td>9.0</td>\n",
              "      <td>Saque</td>\n",
              "      <td>7600.00</td>\n",
              "    </tr>\n",
              "    <tr>\n",
              "      <th>23</th>\n",
              "      <td>2020.0</td>\n",
              "      <td>10.0</td>\n",
              "      <td>Investimento</td>\n",
              "      <td>2500.00</td>\n",
              "    </tr>\n",
              "    <tr>\n",
              "      <th>24</th>\n",
              "      <td>2020.0</td>\n",
              "      <td>11.0</td>\n",
              "      <td>Investimento</td>\n",
              "      <td>11000.00</td>\n",
              "    </tr>\n",
              "    <tr>\n",
              "      <th>25</th>\n",
              "      <td>2020.0</td>\n",
              "      <td>12.0</td>\n",
              "      <td>Despesa</td>\n",
              "      <td>700.00</td>\n",
              "    </tr>\n",
              "  </tbody>\n",
              "</table>\n",
              "</div>"
            ],
            "text/plain": [
              "       ano   mes          tipo  valor total\n",
              "0   2020.0   1.0      Depósito     13100.00\n",
              "1   2020.0   1.0       Despesa       650.00\n",
              "2   2020.0   1.0  Investimento      5000.00\n",
              "3   2020.0   2.0  Investimento      1500.00\n",
              "4   2020.0   3.0      Depósito     14800.00\n",
              "5   2020.0   3.0       Despesa      4000.00\n",
              "6   2020.0   3.0  Investimento      4350.00\n",
              "7   2020.0   3.0       Receita     11433.00\n",
              "8   2020.0   4.0       Despesa     12099.99\n",
              "9   2020.0   5.0       Despesa      2200.00\n",
              "10  2020.0   6.0      Depósito      2200.00\n",
              "11  2020.0   6.0       Despesa      1500.00\n",
              "12  2020.0   6.0  Investimento      3000.00\n",
              "13  2020.0   6.0       Receita      4034.00\n",
              "14  2020.0   7.0      Depósito      4000.00\n",
              "15  2020.0   7.0       Despesa      3703.00\n",
              "16  2020.0   7.0       Receita     31224.00\n",
              "17  2020.0   8.0      Depósito     14000.00\n",
              "18  2020.0   8.0       Despesa       850.00\n",
              "19  2020.0   8.0       Receita      2000.00\n",
              "20  2020.0   8.0         Saque      4800.00\n",
              "21  2020.0   9.0  Investimento      1000.00\n",
              "22  2020.0   9.0         Saque      7600.00\n",
              "23  2020.0  10.0  Investimento      2500.00\n",
              "24  2020.0  11.0  Investimento     11000.00\n",
              "25  2020.0  12.0       Despesa       700.00"
            ]
          },
          "metadata": {
            "tags": []
          },
          "execution_count": 19
        }
      ]
    },
    {
      "cell_type": "code",
      "metadata": {
        "id": "g1jEOS9jaCm9",
        "outputId": "4c6eb10b-5720-4167-cae9-f6ff0e583f7a",
        "colab": {
          "base_uri": "https://localhost:8080/",
          "height": 278
        }
      },
      "source": [
        "ax = sns.barplot(x=\"mes\", y=\"valor total\", hue=\"tipo\", data=res)"
      ],
      "execution_count": null,
      "outputs": [
        {
          "output_type": "display_data",
          "data": {
            "image/png": "[encoded data removed]",
            "text/plain": [
              "<Figure size 432x288 with 1 Axes>"
            ]
          },
          "metadata": {
            "tags": [],
            "needs_background": "light"
          }
        }
      ]
    },
    {
      "cell_type": "markdown",
      "metadata": {
        "id": "i5q7gXWEaDGk"
      },
      "source": [
        "Relatório 4\n",
        "\n",
        "Objetivo: Criar um relatório que mostre a quantidade de dinheiro movimentado em cada tipo de transação.\n",
        "\n",
        "Código para obtenção do resultado:"
      ]
    },
    {
      "cell_type": "code",
      "metadata": {
        "id": "Hhq9OT86aDWT",
        "outputId": "b7c59d13-0bb5-4136-e4e2-35491083a391",
        "colab": {
          "base_uri": "https://localhost:8080/",
          "height": 197
        }
      },
      "source": [
        "res = pd.read_sql_query(\"\"\" select tipo.cod_tipo,tipo.descricao_tipo as \"Tipo de Transação\",sum(transacao.valor) as \"Valor Transitado\" from tipo \n",
        "                            left outer join transacao\n",
        "                            on (transacao.tipo = tipo.cod_tipo)\n",
        "                            group by tipo.cod_tipo,tipo.descricao_tipo\n",
        "                            order by tipo.cod_tipo\"\"\", conn)\n",
        "res"
      ],
      "execution_count": null,
      "outputs": [
        {
          "output_type": "execute_result",
          "data": {
            "text/html": [
              "<div>\n",
              "<style scoped>\n",
              "    .dataframe tbody tr th:only-of-type {\n",
              "        vertical-align: middle;\n",
              "    }\n",
              "\n",
              "    .dataframe tbody tr th {\n",
              "        vertical-align: top;\n",
              "    }\n",
              "\n",
              "    .dataframe thead th {\n",
              "        text-align: right;\n",
              "    }\n",
              "</style>\n",
              "<table border=\"1\" class=\"dataframe\">\n",
              "  <thead>\n",
              "    <tr style=\"text-align: right;\">\n",
              "      <th></th>\n",
              "      <th>cod_tipo</th>\n",
              "      <th>Tipo de Transação</th>\n",
              "      <th>Valor Transitado</th>\n",
              "    </tr>\n",
              "  </thead>\n",
              "  <tbody>\n",
              "    <tr>\n",
              "      <th>0</th>\n",
              "      <td>1</td>\n",
              "      <td>Saque</td>\n",
              "      <td>17512.00</td>\n",
              "    </tr>\n",
              "    <tr>\n",
              "      <th>1</th>\n",
              "      <td>2</td>\n",
              "      <td>Despesa</td>\n",
              "      <td>64102.99</td>\n",
              "    </tr>\n",
              "    <tr>\n",
              "      <th>2</th>\n",
              "      <td>3</td>\n",
              "      <td>Investimento</td>\n",
              "      <td>28350.00</td>\n",
              "    </tr>\n",
              "    <tr>\n",
              "      <th>3</th>\n",
              "      <td>4</td>\n",
              "      <td>Receita</td>\n",
              "      <td>72241.00</td>\n",
              "    </tr>\n",
              "    <tr>\n",
              "      <th>4</th>\n",
              "      <td>5</td>\n",
              "      <td>Depósito</td>\n",
              "      <td>50850.00</td>\n",
              "    </tr>\n",
              "  </tbody>\n",
              "</table>\n",
              "</div>"
            ],
            "text/plain": [
              "   cod_tipo Tipo de Transação  Valor Transitado\n",
              "0         1             Saque          17512.00\n",
              "1         2           Despesa          64102.99\n",
              "2         3      Investimento          28350.00\n",
              "3         4           Receita          72241.00\n",
              "4         5          Depósito          50850.00"
            ]
          },
          "metadata": {
            "tags": []
          },
          "execution_count": 21
        }
      ]
    },
    {
      "cell_type": "code",
      "metadata": {
        "id": "9xGxOujdaDl0",
        "outputId": "1ea4fea5-64a2-451b-cd53-d974c7b125c5",
        "colab": {
          "base_uri": "https://localhost:8080/",
          "height": 297
        }
      },
      "source": [
        "sns.barplot(x='Tipo de Transação',y='Valor Transitado',data=res)"
      ],
      "execution_count": null,
      "outputs": [
        {
          "output_type": "execute_result",
          "data": {
            "text/plain": [
              "<matplotlib.axes._subplots.AxesSubplot at 0x7fdd941f9a58>"
            ]
          },
          "metadata": {
            "tags": []
          },
          "execution_count": 22
        },
        {
          "output_type": "display_data",
          "data": {
            "image/png": "[encoded data removed]",
            "text/plain": [
              "<Figure size 432x288 with 1 Axes>"
            ]
          },
          "metadata": {
            "tags": [],
            "needs_background": "light"
          }
        }
      ]
    },
    {
      "cell_type": "markdown",
      "metadata": {
        "id": "Wf1AnsXDaD9w"
      },
      "source": [
        "Relatório 5\n",
        "\n",
        "Objetivo: Criar um relatório que possa ser visto todas as pessoas cadastradas no sistema junto com seu cpf e mostrar seu saldo de transações, seu saldo de transações consiste na soma de transações do tipo 3, 4 e 5 menos a do tipo 1 e 2, visto que dos 5 tipos de transações temos que a do tipo 1 e 2 são consideradas transações negativas tendo em mente que são gastos.\n",
        "\n",
        "Código para obtenção do resultado:"
      ]
    },
    {
      "cell_type": "code",
      "metadata": {
        "id": "VKJkU5n4aEaR",
        "outputId": "b9f35ecb-28a9-40bd-c9ba-e8355ad17bf4",
        "colab": {
          "base_uri": "https://localhost:8080/",
          "height": 857
        }
      },
      "source": [
        "res = pd.read_sql_query(\"\"\" select pessoa.cpf as cpf, pessoa.nome, sum((case when transacao.tipo = 3 or transacao.tipo = 4 or transacao.tipo = 5 then transacao.valor else -transacao.valor end)) as Saldo\n",
        "                            from pessoa\n",
        "                            left outer join transacao\n",
        "                            on (pessoa.cpf = transacao.cpf_pessoa)\n",
        "                            group by pessoa.cpf,pessoa.nome \n",
        "                            order by pessoa.nome\"\"\", conn) \n",
        "res"
      ],
      "execution_count": null,
      "outputs": [
        {
          "output_type": "execute_result",
          "data": {
            "text/html": [
              "<div>\n",
              "<style scoped>\n",
              "    .dataframe tbody tr th:only-of-type {\n",
              "        vertical-align: middle;\n",
              "    }\n",
              "\n",
              "    .dataframe tbody tr th {\n",
              "        vertical-align: top;\n",
              "    }\n",
              "\n",
              "    .dataframe thead th {\n",
              "        text-align: right;\n",
              "    }\n",
              "</style>\n",
              "<table border=\"1\" class=\"dataframe\">\n",
              "  <thead>\n",
              "    <tr style=\"text-align: right;\">\n",
              "      <th></th>\n",
              "      <th>cpf</th>\n",
              "      <th>nome</th>\n",
              "      <th>saldo</th>\n",
              "    </tr>\n",
              "  </thead>\n",
              "  <tbody>\n",
              "    <tr>\n",
              "      <th>0</th>\n",
              "      <td>33285697412</td>\n",
              "      <td>Alan Federico</td>\n",
              "      <td>NaN</td>\n",
              "    </tr>\n",
              "    <tr>\n",
              "      <th>1</th>\n",
              "      <td>1256832166</td>\n",
              "      <td>Alessadra Silva</td>\n",
              "      <td>10450.00</td>\n",
              "    </tr>\n",
              "    <tr>\n",
              "      <th>2</th>\n",
              "      <td>10104361234</td>\n",
              "      <td>Ana Gomes</td>\n",
              "      <td>1024.00</td>\n",
              "    </tr>\n",
              "    <tr>\n",
              "      <th>3</th>\n",
              "      <td>78952030125</td>\n",
              "      <td>Ana Sofia</td>\n",
              "      <td>2500.00</td>\n",
              "    </tr>\n",
              "    <tr>\n",
              "      <th>4</th>\n",
              "      <td>69532561521</td>\n",
              "      <td>Beatriz Souza Alves</td>\n",
              "      <td>-2650.00</td>\n",
              "    </tr>\n",
              "    <tr>\n",
              "      <th>5</th>\n",
              "      <td>54123985400</td>\n",
              "      <td>Bernardo Batista</td>\n",
              "      <td>4200.00</td>\n",
              "    </tr>\n",
              "    <tr>\n",
              "      <th>6</th>\n",
              "      <td>87412345688</td>\n",
              "      <td>Carla Santos</td>\n",
              "      <td>4400.00</td>\n",
              "    </tr>\n",
              "    <tr>\n",
              "      <th>7</th>\n",
              "      <td>21054365830</td>\n",
              "      <td>Debora Fonseca</td>\n",
              "      <td>NaN</td>\n",
              "    </tr>\n",
              "    <tr>\n",
              "      <th>8</th>\n",
              "      <td>47345893011</td>\n",
              "      <td>Fabio  Nunes</td>\n",
              "      <td>28050.00</td>\n",
              "    </tr>\n",
              "    <tr>\n",
              "      <th>9</th>\n",
              "      <td>10201578433</td>\n",
              "      <td>Fernando Magalhaes</td>\n",
              "      <td>-4800.00</td>\n",
              "    </tr>\n",
              "    <tr>\n",
              "      <th>10</th>\n",
              "      <td>14202303011</td>\n",
              "      <td>Isaias Rangel</td>\n",
              "      <td>-2200.00</td>\n",
              "    </tr>\n",
              "    <tr>\n",
              "      <th>11</th>\n",
              "      <td>58457731459</td>\n",
              "      <td>João Almeida</td>\n",
              "      <td>730.00</td>\n",
              "    </tr>\n",
              "    <tr>\n",
              "      <th>12</th>\n",
              "      <td>12565312011</td>\n",
              "      <td>Jose Francisco</td>\n",
              "      <td>-50.00</td>\n",
              "    </tr>\n",
              "    <tr>\n",
              "      <th>13</th>\n",
              "      <td>12945763245</td>\n",
              "      <td>Jose Israel</td>\n",
              "      <td>NaN</td>\n",
              "    </tr>\n",
              "    <tr>\n",
              "      <th>14</th>\n",
              "      <td>30056841033</td>\n",
              "      <td>Kaio Fagundes</td>\n",
              "      <td>3200.00</td>\n",
              "    </tr>\n",
              "    <tr>\n",
              "      <th>15</th>\n",
              "      <td>52045682311</td>\n",
              "      <td>Kelvin Abreu</td>\n",
              "      <td>4350.00</td>\n",
              "    </tr>\n",
              "    <tr>\n",
              "      <th>16</th>\n",
              "      <td>35298567401</td>\n",
              "      <td>Laiz Santorio</td>\n",
              "      <td>550.00</td>\n",
              "    </tr>\n",
              "    <tr>\n",
              "      <th>17</th>\n",
              "      <td>163295691</td>\n",
              "      <td>Leia Souza</td>\n",
              "      <td>-9700.00</td>\n",
              "    </tr>\n",
              "    <tr>\n",
              "      <th>18</th>\n",
              "      <td>65423895147</td>\n",
              "      <td>Maitê Carvalho</td>\n",
              "      <td>NaN</td>\n",
              "    </tr>\n",
              "    <tr>\n",
              "      <th>19</th>\n",
              "      <td>74525683456</td>\n",
              "      <td>Nayara Bittencourt</td>\n",
              "      <td>12683.00</td>\n",
              "    </tr>\n",
              "    <tr>\n",
              "      <th>20</th>\n",
              "      <td>99058712344</td>\n",
              "      <td>Patricia Machado</td>\n",
              "      <td>-15500.00</td>\n",
              "    </tr>\n",
              "    <tr>\n",
              "      <th>21</th>\n",
              "      <td>98562130000</td>\n",
              "      <td>Paulo Carmelo Antunes</td>\n",
              "      <td>1234.00</td>\n",
              "    </tr>\n",
              "    <tr>\n",
              "      <th>22</th>\n",
              "      <td>1425836977</td>\n",
              "      <td>Pedro Goncalves</td>\n",
              "      <td>9078.00</td>\n",
              "    </tr>\n",
              "    <tr>\n",
              "      <th>23</th>\n",
              "      <td>22233365840</td>\n",
              "      <td>Priscila Xavier</td>\n",
              "      <td>-320.00</td>\n",
              "    </tr>\n",
              "    <tr>\n",
              "      <th>24</th>\n",
              "      <td>5812565984</td>\n",
              "      <td>Rafael Pinho</td>\n",
              "      <td>14500.00</td>\n",
              "    </tr>\n",
              "    <tr>\n",
              "      <th>25</th>\n",
              "      <td>5810495600</td>\n",
              "      <td>Roberto Goes</td>\n",
              "      <td>-7600.00</td>\n",
              "    </tr>\n",
              "    <tr>\n",
              "      <th>26</th>\n",
              "      <td>12945630790</td>\n",
              "      <td>Sofia Salles</td>\n",
              "      <td>15697.01</td>\n",
              "    </tr>\n",
              "  </tbody>\n",
              "</table>\n",
              "</div>"
            ],
            "text/plain": [
              "            cpf                   nome     saldo\n",
              "0   33285697412          Alan Federico       NaN\n",
              "1    1256832166        Alessadra Silva  10450.00\n",
              "2   10104361234              Ana Gomes   1024.00\n",
              "3   78952030125              Ana Sofia   2500.00\n",
              "4   69532561521    Beatriz Souza Alves  -2650.00\n",
              "5   54123985400       Bernardo Batista   4200.00\n",
              "6   87412345688           Carla Santos   4400.00\n",
              "7   21054365830         Debora Fonseca       NaN\n",
              "8   47345893011           Fabio  Nunes  28050.00\n",
              "9   10201578433     Fernando Magalhaes  -4800.00\n",
              "10  14202303011          Isaias Rangel  -2200.00\n",
              "11  58457731459           João Almeida    730.00\n",
              "12  12565312011         Jose Francisco    -50.00\n",
              "13  12945763245            Jose Israel       NaN\n",
              "14  30056841033          Kaio Fagundes   3200.00\n",
              "15  52045682311           Kelvin Abreu   4350.00\n",
              "16  35298567401          Laiz Santorio    550.00\n",
              "17    163295691             Leia Souza  -9700.00\n",
              "18  65423895147         Maitê Carvalho       NaN\n",
              "19  74525683456     Nayara Bittencourt  12683.00\n",
              "20  99058712344       Patricia Machado -15500.00\n",
              "21  98562130000  Paulo Carmelo Antunes   1234.00\n",
              "22   1425836977        Pedro Goncalves   9078.00\n",
              "23  22233365840        Priscila Xavier   -320.00\n",
              "24   5812565984           Rafael Pinho  14500.00\n",
              "25   5810495600           Roberto Goes  -7600.00\n",
              "26  12945630790           Sofia Salles  15697.01"
            ]
          },
          "metadata": {
            "tags": []
          },
          "execution_count": 23
        }
      ]
    },
    {
      "cell_type": "code",
      "metadata": {
        "id": "bj4O8YdfaE3S",
        "outputId": "0f5d2440-ba5e-4bc6-b997-1338e37e5cfe",
        "colab": {
          "base_uri": "https://localhost:8080/",
          "height": 296
        }
      },
      "source": [
        "ax = sns.barplot(x='saldo', y='nome', data=res)\n",
        "ax.set_xlabel('saldo')"
      ],
      "execution_count": null,
      "outputs": [
        {
          "output_type": "execute_result",
          "data": {
            "text/plain": [
              "Text(0.5, 0, 'saldo')"
            ]
          },
          "metadata": {
            "tags": []
          },
          "execution_count": 24
        },
        {
          "output_type": "display_data",
          "data": {
            "image/png": "[encoded data removed]",
            "text/plain": [
              "<Figure size 432x288 with 1 Axes>"
            ]
          },
          "metadata": {
            "tags": [],
            "needs_background": "light"
          }
        }
      ]
    }
  ]
}